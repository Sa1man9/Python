{
 "cells": [
  {
   "cell_type": "code",
   "execution_count": 1,
   "id": "250a8f6a",
   "metadata": {},
   "outputs": [],
   "source": [
    "class Error(Exception):\n",
    "    pass\n",
    "class dobException(Error):\n",
    "    pass"
   ]
  },
  {
   "cell_type": "code",
   "execution_count": 2,
   "id": "18d69403",
   "metadata": {},
   "outputs": [
    {
     "name": "stdout",
     "output_type": "stream",
     "text": [
      "sorry your age does not follow rules\n"
     ]
    }
   ],
   "source": [
    "year=int(input(\"enter dob\"))\n",
    "age=2025-year\n",
    "try:\n",
    "    if age<=30 and age>=20:\n",
    "        print(\"age is valid\")\n",
    "    else:\n",
    "        raise dobException\n",
    "except dobException:\n",
    "    print(\"sorry your age does not follow rules\")"
   ]
  },
  {
   "cell_type": "code",
   "execution_count": null,
   "id": "ddb669bd",
   "metadata": {},
   "outputs": [],
   "source": []
  }
 ],
 "metadata": {
  "kernelspec": {
   "display_name": "Python 3",
   "language": "python",
   "name": "python3"
  },
  "language_info": {
   "codemirror_mode": {
    "name": "ipython",
    "version": 3
   },
   "file_extension": ".py",
   "mimetype": "text/x-python",
   "name": "python",
   "nbconvert_exporter": "python",
   "pygments_lexer": "ipython3",
   "version": "3.13.7"
  }
 },
 "nbformat": 4,
 "nbformat_minor": 5
}
