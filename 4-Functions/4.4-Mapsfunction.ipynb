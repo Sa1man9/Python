{
 "cells": [
  {
   "cell_type": "code",
   "execution_count": 1,
   "id": "e0b7daa1",
   "metadata": {},
   "outputs": [],
   "source": [
    "square=lambda a:a*a"
   ]
  },
  {
   "cell_type": "code",
   "execution_count": 2,
   "id": "e262511b",
   "metadata": {},
   "outputs": [
    {
     "data": {
      "text/plain": [
       "[1, 4, 9, 16, 25, 36, 49, 64]"
      ]
     },
     "execution_count": 2,
     "metadata": {},
     "output_type": "execute_result"
    }
   ],
   "source": [
    "numbers=[1,2,3,4,5,6,7,8]\n",
    "list(map(square,numbers))"
   ]
  },
  {
   "cell_type": "code",
   "execution_count": 4,
   "id": "34b147e6",
   "metadata": {},
   "outputs": [
    {
     "data": {
      "text/plain": [
       "[5, 7, 9]"
      ]
     },
     "execution_count": 4,
     "metadata": {},
     "output_type": "execute_result"
    }
   ],
   "source": [
    "numbers1=[1,2,3]\n",
    "numbers2=[4,5,6]\n",
    "list(map(lambda x,y:x+y,numbers1,numbers2))"
   ]
  },
  {
   "cell_type": "code",
   "execution_count": 5,
   "id": "0ac74fca",
   "metadata": {},
   "outputs": [
    {
     "data": {
      "text/plain": [
       "[1, 2, 3, 4, 5]"
      ]
     },
     "execution_count": 5,
     "metadata": {},
     "output_type": "execute_result"
    }
   ],
   "source": [
    "str_numbers = ['1', '2', '3', '4', '5']\n",
    "list(map(int,str_numbers))"
   ]
  },
  {
   "cell_type": "code",
   "execution_count": 6,
   "id": "3bd4538a",
   "metadata": {},
   "outputs": [
    {
     "data": {
      "text/plain": [
       "['APPLE', 'BANANA', 'CHERRY']"
      ]
     },
     "execution_count": 6,
     "metadata": {},
     "output_type": "execute_result"
    }
   ],
   "source": [
    "words=['apple','banana','cherry']\n",
    "list(map(str.upper,words))"
   ]
  },
  {
   "cell_type": "code",
   "execution_count": 9,
   "id": "0ea09a49",
   "metadata": {},
   "outputs": [
    {
     "data": {
      "text/plain": [
       "['salman', 'akhtar']"
      ]
     },
     "execution_count": 9,
     "metadata": {},
     "output_type": "execute_result"
    }
   ],
   "source": [
    "def get_name(person):\n",
    "    return person['name']\n",
    "\n",
    "people=[\n",
    "    {'name':'salman','age':32},\n",
    "    {'name':'akhtar','age':33}\n",
    "]\n",
    "list(map(get_name,people))"
   ]
  }
 ],
 "metadata": {
  "kernelspec": {
   "display_name": "Python 3",
   "language": "python",
   "name": "python3"
  },
  "language_info": {
   "codemirror_mode": {
    "name": "ipython",
    "version": 3
   },
   "file_extension": ".py",
   "mimetype": "text/x-python",
   "name": "python",
   "nbconvert_exporter": "python",
   "pygments_lexer": "ipython3",
   "version": "3.13.7"
  }
 },
 "nbformat": 4,
 "nbformat_minor": 5
}
