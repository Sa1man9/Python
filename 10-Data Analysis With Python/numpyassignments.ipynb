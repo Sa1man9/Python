{
 "cells": [
  {
   "cell_type": "markdown",
   "metadata": {},
   "source": [
    "# Module: NumPy Assignments\n",
    "## Lesson: NumPy\n",
    "### Assignment 1: Array Creation and Manipulation\n",
    "\n",
    "1. Create a NumPy array of shape (5, 5) filled with random integers between 1 and 20. Replace all the elements in the third column with 1.\n",
    "2. Create a NumPy array of shape (4, 4) with values from 1 to 16. Replace the diagonal elements with 0.\n",
    "\n",
    "### Assignment 2: Array Indexing and Slicing\n",
    "\n",
    "1. Create a NumPy array of shape (6, 6) with values from 1 to 36. Extract the sub-array consisting of the 3rd to 5th rows and 2nd to 4th columns.\n",
    "2. Create a NumPy array of shape (5, 5) with random integers. Extract the elements on the border.\n",
    "\n",
    "### Assignment 3: Array Operations\n",
    "\n",
    "1. Create two NumPy arrays of shape (3, 4) filled with random integers. Perform element-wise addition, subtraction, multiplication, and division.\n",
    "2. Create a NumPy array of shape (4, 4) with values from 1 to 16. Compute the row-wise and column-wise sum.\n",
    "\n",
    "### Assignment 4: Statistical Operations\n",
    "\n",
    "1. Create a NumPy array of shape (5, 5) filled with random integers. Compute the mean, median, standard deviation, and variance of the array.\n",
    "2. Create a NumPy array of shape (3, 3) with values from 1 to 9. Normalize the array (i.e., scale the values to have a mean of 0 and a standard deviation of 1).\n",
    "\n",
    "### Assignment 5: Broadcasting\n",
    "\n",
    "1. Create a NumPy array of shape (3, 3) filled with random integers. Add a 1D array of shape (3,) to each row of the 2D array using broadcasting.\n",
    "2. Create a NumPy array of shape (4, 4) filled with random integers. Subtract a 1D array of shape (4,) from each column of the 2D array using broadcasting.\n",
    "\n",
    "### Assignment 6: Linear Algebra\n",
    "\n",
    "1. Create a NumPy array of shape (3, 3) representing a matrix. Compute its determinant, inverse, and eigenvalues.\n",
    "2. Create two NumPy arrays of shape (2, 3) and (3, 2). Perform matrix multiplication on these arrays.\n",
    "\n",
    "### Assignment 7: Advanced Array Manipulation\n",
    "\n",
    "1. Create a NumPy array of shape (3, 3) with values from 1 to 9. Reshape the array to shape (1, 9) and then to shape (9, 1).\n",
    "2. Create a NumPy array of shape (5, 5) filled with random integers. Flatten the array and then reshape it back to (5, 5).\n",
    "\n",
    "### Assignment 8: Fancy Indexing and Boolean Indexing\n",
    "\n",
    "1. Create a NumPy array of shape (5, 5) filled with random integers. Use fancy indexing to extract the elements at the corners of the array.\n",
    "2. Create a NumPy array of shape (4, 4) filled with random integers. Use boolean indexing to set all elements greater than 10 to 10.\n",
    "\n",
    "### Assignment 9: Structured Arrays\n",
    "\n",
    "1. Create a structured array with fields 'name' (string), 'age' (integer), and 'weight' (float). Add some data and sort the array by age.\n",
    "2. Create a structured array with fields 'x' and 'y' (both integers). Add some data and compute the Euclidean distance between each pair of points.\n",
    "\n",
    "### Assignment 10: Masked Arrays\n",
    "\n",
    "1. Create a masked array of shape (4, 4) with random integers and mask the elements greater than 10. Compute the sum of the unmasked elements.\n",
    "2. Create a masked array of shape (3, 3) with random integers and mask the diagonal elements. Replace the masked elements with the mean of the unmasked elements."
   ]
  },
  {
   "cell_type": "code",
   "execution_count": 4,
   "id": "c12dc098",
   "metadata": {},
   "outputs": [
    {
     "data": {
      "text/plain": [
       "array([[ 9, 19, 12,  8,  3],\n",
       "       [14, 19, 19, 15, 14],\n",
       "       [14, 12, 19, 20, 18],\n",
       "       [12, 18,  1, 14,  2],\n",
       "       [ 5,  2, 19,  2, 12]])"
      ]
     },
     "execution_count": 4,
     "metadata": {},
     "output_type": "execute_result"
    }
   ],
   "source": [
    "import numpy as np\n",
    "import random\n",
    "def get_random():\n",
    "    random_number=random.randint(1,20)\n",
    "    return random_number\n",
    "\n",
    "lst=[]\n",
    "for i in range(5):\n",
    "    temp=[]\n",
    "    for j in range(5):\n",
    "        temp.append(get_random())\n",
    "    lst.append(temp)\n",
    "arr1=np.array(lst)\n",
    "arr1"
   ]
  },
  {
   "cell_type": "code",
   "execution_count": 6,
   "id": "8b5016bd",
   "metadata": {},
   "outputs": [
    {
     "data": {
      "text/plain": [
       "(5, 5)"
      ]
     },
     "execution_count": 6,
     "metadata": {},
     "output_type": "execute_result"
    }
   ],
   "source": [
    "arr1.shape"
   ]
  },
  {
   "cell_type": "code",
   "execution_count": 7,
   "id": "d50c7f0a",
   "metadata": {},
   "outputs": [],
   "source": [
    "arr1[0:,2]=1"
   ]
  },
  {
   "cell_type": "code",
   "execution_count": 8,
   "id": "87b54852",
   "metadata": {},
   "outputs": [
    {
     "data": {
      "text/plain": [
       "array([[11, 18,  1,  3,  4],\n",
       "       [16, 20,  1,  1,  4],\n",
       "       [10, 17,  1, 11,  6],\n",
       "       [ 3, 11,  1,  2, 17],\n",
       "       [16,  6,  1, 12, 19]])"
      ]
     },
     "execution_count": 8,
     "metadata": {},
     "output_type": "execute_result"
    }
   ],
   "source": [
    "arr1"
   ]
  },
  {
   "cell_type": "code",
   "execution_count": 10,
   "id": "148e86ba",
   "metadata": {},
   "outputs": [],
   "source": [
    "\n",
    "for i in range(5):\n",
    "    arr1[i,i]=4"
   ]
  },
  {
   "cell_type": "code",
   "execution_count": 12,
   "id": "669619a0",
   "metadata": {},
   "outputs": [
    {
     "data": {
      "text/plain": [
       "array([[ 4, 18,  1,  3,  4],\n",
       "       [16,  4,  1,  1,  4],\n",
       "       [10, 17,  4, 11,  6],\n",
       "       [ 3, 11,  1,  4, 17],\n",
       "       [16,  6,  1, 12,  4]])"
      ]
     },
     "execution_count": 12,
     "metadata": {},
     "output_type": "execute_result"
    }
   ],
   "source": [
    "arr1"
   ]
  },
  {
   "cell_type": "code",
   "execution_count": 13,
   "id": "9b900f32",
   "metadata": {},
   "outputs": [],
   "source": [
    "arr1=np.random.randint(1,36,size=(6,6))"
   ]
  },
  {
   "cell_type": "code",
   "execution_count": 14,
   "id": "65664479",
   "metadata": {},
   "outputs": [
    {
     "data": {
      "text/plain": [
       "array([[17, 16, 12, 24, 19,  9],\n",
       "       [ 8,  2, 12, 18,  1, 27],\n",
       "       [21, 27, 33, 22, 22, 12],\n",
       "       [29, 20, 34, 17, 19, 12],\n",
       "       [12, 26, 22, 14, 11,  3],\n",
       "       [ 2,  6, 26, 31,  9, 14]], dtype=int32)"
      ]
     },
     "execution_count": 14,
     "metadata": {},
     "output_type": "execute_result"
    }
   ],
   "source": [
    "arr1"
   ]
  },
  {
   "cell_type": "code",
   "execution_count": 16,
   "id": "c05af43b",
   "metadata": {},
   "outputs": [
    {
     "data": {
      "text/plain": [
       "array([[27, 33, 22],\n",
       "       [20, 34, 17],\n",
       "       [26, 22, 14]], dtype=int32)"
      ]
     },
     "execution_count": 16,
     "metadata": {},
     "output_type": "execute_result"
    }
   ],
   "source": [
    "arr1[2:5,1:4]"
   ]
  },
  {
   "cell_type": "code",
   "execution_count": 30,
   "id": "8e566c9d",
   "metadata": {},
   "outputs": [
    {
     "data": {
      "text/plain": [
       "array([[ 8, 10,  8, 12,  7],\n",
       "       [ 2, 20,  1, 17, 20],\n",
       "       [15,  1,  5,  9, 13],\n",
       "       [ 3, 13,  5, 18,  6],\n",
       "       [ 5, 12,  9,  9, 16]], dtype=int32)"
      ]
     },
     "execution_count": 30,
     "metadata": {},
     "output_type": "execute_result"
    }
   ],
   "source": [
    "arr1=np.random.randint(1,21,size=(5,5))\n",
    "arr1"
   ]
  },
  {
   "cell_type": "code",
   "execution_count": 45,
   "id": "877964a2",
   "metadata": {},
   "outputs": [
    {
     "data": {
      "text/plain": [
       "array([ 8, 10,  8, 12,  7, 20, 13,  6, 16,  9,  9, 12,  5,  3, 15,  2],\n",
       "      dtype=int32)"
      ]
     },
     "execution_count": 45,
     "metadata": {},
     "output_type": "execute_result"
    }
   ],
   "source": [
    "\n",
    "border=np.concatenate((arr1[0,:],arr1[1:,-1],arr1[-1,-2::-1],arr1[-2:0:-1,0]))\n",
    "border"
   ]
  },
  {
   "cell_type": "code",
   "execution_count": 46,
   "id": "4e7f4ecd",
   "metadata": {},
   "outputs": [],
   "source": [
    "arr1=np.random.randint(1,12,size=(3,4))\n",
    "arr2=np.random.randint(1,12,size=(3,4))"
   ]
  },
  {
   "cell_type": "code",
   "execution_count": 53,
   "id": "618f9086",
   "metadata": {},
   "outputs": [
    {
     "name": "stdout",
     "output_type": "stream",
     "text": [
      "[[ 3 10  7  2]\n",
      " [ 8  3  5 11]\n",
      " [ 3  6  1  8]]\n"
     ]
    },
    {
     "data": {
      "text/plain": [
       "array([[ 3,  7,  3,  3],\n",
       "       [ 4, 11,  2,  3],\n",
       "       [ 5, 11,  3,  7]], dtype=int32)"
      ]
     },
     "execution_count": 53,
     "metadata": {},
     "output_type": "execute_result"
    }
   ],
   "source": [
    "print(arr1)\n",
    "arr2"
   ]
  },
  {
   "cell_type": "code",
   "execution_count": 54,
   "id": "c30967df",
   "metadata": {},
   "outputs": [
    {
     "data": {
      "text/plain": [
       "array([[ 6, 17, 10,  5],\n",
       "       [12, 14,  7, 14],\n",
       "       [ 8, 17,  4, 15]], dtype=int32)"
      ]
     },
     "execution_count": 54,
     "metadata": {},
     "output_type": "execute_result"
    }
   ],
   "source": [
    "add=arr1+arr2\n",
    "add"
   ]
  },
  {
   "cell_type": "code",
   "execution_count": 55,
   "id": "09625779",
   "metadata": {},
   "outputs": [
    {
     "data": {
      "text/plain": [
       "array([[ 1,  2, 15,  6],\n",
       "       [ 1,  5,  9,  8],\n",
       "       [ 9, 15, 12, 10],\n",
       "       [ 3,  4, 15,  3]], dtype=int32)"
      ]
     },
     "execution_count": 55,
     "metadata": {},
     "output_type": "execute_result"
    }
   ],
   "source": [
    "arr1=np.random.randint(1,16,size=(4,4))\n",
    "arr1"
   ]
  },
  {
   "cell_type": "code",
   "execution_count": 59,
   "id": "69392b85",
   "metadata": {},
   "outputs": [
    {
     "data": {
      "text/plain": [
       "array([14, 26, 51, 27])"
      ]
     },
     "execution_count": 59,
     "metadata": {},
     "output_type": "execute_result"
    }
   ],
   "source": [
    "col=np.sum(arr1,axis=0)\n",
    "col"
   ]
  },
  {
   "cell_type": "code",
   "execution_count": 60,
   "id": "b9ace59b",
   "metadata": {},
   "outputs": [
    {
     "data": {
      "text/plain": [
       "array([24, 23, 46, 25])"
      ]
     },
     "execution_count": 60,
     "metadata": {},
     "output_type": "execute_result"
    }
   ],
   "source": [
    "row=np.sum(arr1,axis=1)\n",
    "row"
   ]
  },
  {
   "cell_type": "code",
   "execution_count": 62,
   "id": "643c5743",
   "metadata": {},
   "outputs": [
    {
     "data": {
      "text/plain": [
       "array([[12, 21,  6,  8, 10],\n",
       "       [ 9, 20, 14, 14,  6],\n",
       "       [18, 20, 21, 13, 20],\n",
       "       [16, 23, 14,  5,  3],\n",
       "       [20,  1, 23,  3,  5]], dtype=int32)"
      ]
     },
     "execution_count": 62,
     "metadata": {},
     "output_type": "execute_result"
    }
   ],
   "source": [
    "arr=np.random.randint(1,25,size=(5,5))\n",
    "arr"
   ]
  },
  {
   "cell_type": "code",
   "execution_count": 63,
   "id": "de0d990a",
   "metadata": {},
   "outputs": [
    {
     "data": {
      "text/plain": [
       "np.float64(13.0)"
      ]
     },
     "execution_count": 63,
     "metadata": {},
     "output_type": "execute_result"
    }
   ],
   "source": [
    "np.mean(arr)"
   ]
  },
  {
   "cell_type": "code",
   "execution_count": 64,
   "id": "0a348a2c",
   "metadata": {},
   "outputs": [
    {
     "data": {
      "text/plain": [
       "np.float64(14.0)"
      ]
     },
     "execution_count": 64,
     "metadata": {},
     "output_type": "execute_result"
    }
   ],
   "source": [
    "np.median(arr)"
   ]
  },
  {
   "cell_type": "code",
   "execution_count": 67,
   "id": "d2aad0c2",
   "metadata": {},
   "outputs": [
    {
     "data": {
      "text/plain": [
       "np.float64(6.876045375068434)"
      ]
     },
     "execution_count": 67,
     "metadata": {},
     "output_type": "execute_result"
    }
   ],
   "source": [
    "np.std(arr)"
   ]
  },
  {
   "cell_type": "code",
   "execution_count": 69,
   "id": "c63a1e4e",
   "metadata": {},
   "outputs": [
    {
     "data": {
      "text/plain": [
       "np.float64(47.28)"
      ]
     },
     "execution_count": 69,
     "metadata": {},
     "output_type": "execute_result"
    }
   ],
   "source": [
    "np.var(arr)"
   ]
  },
  {
   "cell_type": "code",
   "execution_count": 70,
   "id": "264e4245",
   "metadata": {},
   "outputs": [
    {
     "data": {
      "text/plain": [
       "array([[-0.14543243,  1.16345945, -1.01802702, -0.72716216, -0.4362973 ],\n",
       "       [-0.58172973,  1.01802702,  0.14543243,  0.14543243, -1.01802702],\n",
       "       [ 0.72716216,  1.01802702,  1.16345945,  0.        ,  1.01802702],\n",
       "       [ 0.4362973 ,  1.45432432,  0.14543243, -1.16345945, -1.45432432],\n",
       "       [ 1.01802702, -1.74518918,  1.45432432, -1.45432432, -1.16345945]])"
      ]
     },
     "execution_count": 70,
     "metadata": {},
     "output_type": "execute_result"
    }
   ],
   "source": [
    "(arr-np.mean(arr))/np.std(arr)"
   ]
  },
  {
   "cell_type": "code",
   "execution_count": 71,
   "id": "f47cd642",
   "metadata": {},
   "outputs": [
    {
     "data": {
      "text/plain": [
       "array([[1, 3, 1],\n",
       "       [2, 2, 2],\n",
       "       [2, 8, 1]], dtype=int32)"
      ]
     },
     "execution_count": 71,
     "metadata": {},
     "output_type": "execute_result"
    }
   ],
   "source": [
    "arr=np.random.randint(1,9,size=(3,3))\n",
    "arr\n"
   ]
  },
  {
   "cell_type": "code",
   "execution_count": 72,
   "id": "3d140310",
   "metadata": {},
   "outputs": [],
   "source": [
    "arr1=np.random.randint(1,3,size=(3))"
   ]
  },
  {
   "cell_type": "code",
   "execution_count": 73,
   "id": "eb7de502",
   "metadata": {},
   "outputs": [
    {
     "data": {
      "text/plain": [
       "array([1, 1, 1], dtype=int32)"
      ]
     },
     "execution_count": 73,
     "metadata": {},
     "output_type": "execute_result"
    }
   ],
   "source": [
    "arr1"
   ]
  },
  {
   "cell_type": "code",
   "execution_count": 74,
   "id": "3a4c5a81",
   "metadata": {},
   "outputs": [
    {
     "name": "stdout",
     "output_type": "stream",
     "text": [
      "[[2 4 2]\n",
      " [3 3 3]\n",
      " [3 9 2]]\n"
     ]
    }
   ],
   "source": [
    "print(arr+arr1)"
   ]
  },
  {
   "cell_type": "code",
   "execution_count": 76,
   "id": "89d4f9de",
   "metadata": {},
   "outputs": [
    {
     "name": "stdout",
     "output_type": "stream",
     "text": [
      "[[ 9 11 13  9]\n",
      " [ 8 12 11  3]\n",
      " [ 1  6 15 13]\n",
      " [ 2  4 14  9]]\n"
     ]
    },
    {
     "data": {
      "text/plain": [
       "array([2, 2, 3, 1], dtype=int32)"
      ]
     },
     "execution_count": 76,
     "metadata": {},
     "output_type": "execute_result"
    }
   ],
   "source": [
    "arr=np.random.randint(1,16,size=(4,4))\n",
    "print(arr)\n",
    "arr1=np.random.randint(1,4,size=(4))\n",
    "arr1"
   ]
  },
  {
   "cell_type": "code",
   "execution_count": 77,
   "id": "121e1f82",
   "metadata": {},
   "outputs": [
    {
     "name": "stdout",
     "output_type": "stream",
     "text": [
      "[[ 7  9 11  7]\n",
      " [ 6 10  9  1]\n",
      " [-2  3 12 10]\n",
      " [ 1  3 13  8]]\n"
     ]
    }
   ],
   "source": [
    "print(arr-arr1[:,np.newaxis])"
   ]
  },
  {
   "cell_type": "code",
   "execution_count": 85,
   "id": "5fd22821",
   "metadata": {},
   "outputs": [
    {
     "data": {
      "text/plain": [
       "np.float64(-5.000000000000001)"
      ]
     },
     "execution_count": 85,
     "metadata": {},
     "output_type": "execute_result"
    }
   ],
   "source": [
    "arr1=np.random.randint(1,3,size=(3,3))\n",
    "np.linalg.det(arr1)"
   ]
  },
  {
   "cell_type": "code",
   "execution_count": 86,
   "id": "7b34de95",
   "metadata": {},
   "outputs": [
    {
     "data": {
      "text/plain": [
       "array([[ 0.4,  0.4, -0.6],\n",
       "       [ 0.4, -0.6,  0.4],\n",
       "       [-0.6,  0.4,  0.4]])"
      ]
     },
     "execution_count": 86,
     "metadata": {},
     "output_type": "execute_result"
    }
   ],
   "source": [
    "np.linalg.inv(arr1)"
   ]
  },
  {
   "cell_type": "code",
   "execution_count": 87,
   "id": "01d4796f",
   "metadata": {},
   "outputs": [
    {
     "data": {
      "text/plain": [
       "EigResult(eigenvalues=array([ 5.,  1., -1.]), eigenvectors=array([[-5.77350269e-01, -7.07106781e-01,  4.08248290e-01],\n",
       "       [-5.77350269e-01,  2.69492349e-17, -8.16496581e-01],\n",
       "       [-5.77350269e-01,  7.07106781e-01,  4.08248290e-01]]))"
      ]
     },
     "execution_count": 87,
     "metadata": {},
     "output_type": "execute_result"
    }
   ],
   "source": [
    "np.linalg.eig(arr1)"
   ]
  },
  {
   "cell_type": "code",
   "execution_count": 90,
   "id": "2171a4ee",
   "metadata": {},
   "outputs": [
    {
     "name": "stdout",
     "output_type": "stream",
     "text": [
      "[[4 1 5]\n",
      " [2 2 3]]\n",
      "[[1 4 5]\n",
      " [4 2 4]]\n"
     ]
    }
   ],
   "source": [
    "arr1=np.random.randint(1,6,size=(2,3))\n",
    "print(arr1)\n",
    "arr2=np.random.randint(1,6,size=(2,3))\n",
    "print(arr2)"
   ]
  },
  {
   "cell_type": "code",
   "execution_count": 92,
   "id": "7fa33faf",
   "metadata": {},
   "outputs": [
    {
     "data": {
      "text/plain": [
       "array([[ 4,  4, 25],\n",
       "       [ 8,  4, 12]], dtype=int32)"
      ]
     },
     "execution_count": 92,
     "metadata": {},
     "output_type": "execute_result"
    }
   ],
   "source": [
    "np.multiply(arr1,arr2)"
   ]
  },
  {
   "cell_type": "code",
   "execution_count": 93,
   "id": "013b20f6",
   "metadata": {},
   "outputs": [],
   "source": [
    "arr=np.random.randint(1,9,size=(3,3))"
   ]
  },
  {
   "cell_type": "code",
   "execution_count": 94,
   "id": "e4678ab0",
   "metadata": {},
   "outputs": [
    {
     "data": {
      "text/plain": [
       "array([[2, 6, 1],\n",
       "       [5, 7, 4],\n",
       "       [7, 5, 4]], dtype=int32)"
      ]
     },
     "execution_count": 94,
     "metadata": {},
     "output_type": "execute_result"
    }
   ],
   "source": [
    "arr"
   ]
  },
  {
   "cell_type": "code",
   "execution_count": 96,
   "id": "c7a8e6f6",
   "metadata": {},
   "outputs": [],
   "source": [
    "arr=arr.reshape(1,9)"
   ]
  },
  {
   "cell_type": "code",
   "execution_count": 97,
   "id": "3ffc6509",
   "metadata": {},
   "outputs": [
    {
     "data": {
      "text/plain": [
       "array([[2],\n",
       "       [6],\n",
       "       [1],\n",
       "       [5],\n",
       "       [7],\n",
       "       [4],\n",
       "       [7],\n",
       "       [5],\n",
       "       [4]], dtype=int32)"
      ]
     },
     "execution_count": 97,
     "metadata": {},
     "output_type": "execute_result"
    }
   ],
   "source": [
    "arr.reshape(9,1)"
   ]
  },
  {
   "cell_type": "code",
   "execution_count": 5,
   "id": "7f5c80a8",
   "metadata": {},
   "outputs": [],
   "source": [
    "arr=np.random.randint(1,25,size=(5,5))"
   ]
  },
  {
   "cell_type": "code",
   "execution_count": 8,
   "id": "c28a4a02",
   "metadata": {},
   "outputs": [],
   "source": [
    "arr=arr.flatten()"
   ]
  },
  {
   "cell_type": "code",
   "execution_count": 9,
   "id": "c85a6567",
   "metadata": {},
   "outputs": [
    {
     "data": {
      "text/plain": [
       "array([ 9, 13, 12,  8, 16, 15, 17,  3,  9,  8,  7, 24,  1,  3,  1,  2,  6,\n",
       "       22,  5,  3, 24, 13,  7, 18, 13], dtype=int32)"
      ]
     },
     "execution_count": 9,
     "metadata": {},
     "output_type": "execute_result"
    }
   ],
   "source": [
    "arr"
   ]
  },
  {
   "cell_type": "code",
   "execution_count": 10,
   "id": "86eddfa9",
   "metadata": {},
   "outputs": [
    {
     "data": {
      "text/plain": [
       "array([[ 9, 13, 12,  8, 16],\n",
       "       [15, 17,  3,  9,  8],\n",
       "       [ 7, 24,  1,  3,  1],\n",
       "       [ 2,  6, 22,  5,  3],\n",
       "       [24, 13,  7, 18, 13]], dtype=int32)"
      ]
     },
     "execution_count": 10,
     "metadata": {},
     "output_type": "execute_result"
    }
   ],
   "source": [
    "arr.reshape(5,5)"
   ]
  },
  {
   "cell_type": "code",
   "execution_count": 11,
   "id": "2237d496",
   "metadata": {},
   "outputs": [
    {
     "data": {
      "text/plain": [
       "array([[ 2, 19,  2,  7, 15],\n",
       "       [24, 21,  6, 15, 13],\n",
       "       [ 1,  1,  3,  3,  6],\n",
       "       [ 5, 19,  5, 21, 12],\n",
       "       [17, 13, 17, 13, 20]], dtype=int32)"
      ]
     },
     "execution_count": 11,
     "metadata": {},
     "output_type": "execute_result"
    }
   ],
   "source": [
    "arr=np.random.randint(1,25,size=(5,5))\n",
    "arr"
   ]
  },
  {
   "cell_type": "code",
   "execution_count": 12,
   "id": "26af5c9b",
   "metadata": {},
   "outputs": [
    {
     "data": {
      "text/plain": [
       "array([ 2, 15, 20, 17], dtype=int32)"
      ]
     },
     "execution_count": 12,
     "metadata": {},
     "output_type": "execute_result"
    }
   ],
   "source": [
    "arr[[0,0,-1,-1],[0,-1,-1,0]]"
   ]
  },
  {
   "cell_type": "code",
   "execution_count": 14,
   "id": "3c1a901d",
   "metadata": {},
   "outputs": [],
   "source": [
    "arr=np.random.randint(1,16,size=(4,4))\n",
    "arr[arr>10]=10"
   ]
  },
  {
   "cell_type": "code",
   "execution_count": 15,
   "id": "2c18a52b",
   "metadata": {},
   "outputs": [
    {
     "data": {
      "text/plain": [
       "array([[ 6,  6,  8, 10],\n",
       "       [10,  3,  3,  8],\n",
       "       [10,  9,  8,  2],\n",
       "       [ 5,  9,  6,  3]], dtype=int32)"
      ]
     },
     "execution_count": 15,
     "metadata": {},
     "output_type": "execute_result"
    }
   ],
   "source": [
    "arr"
   ]
  },
  {
   "cell_type": "code",
   "execution_count": 16,
   "id": "21d12b70",
   "metadata": {},
   "outputs": [
    {
     "name": "stdout",
     "output_type": "stream",
     "text": [
      "Original array:\n",
      "[('Alice', 25, 55.5) ('Bob', 30, 85.3) ('Charlie', 20, 65.2)]\n"
     ]
    },
    {
     "data": {
      "text/plain": [
       "array([('Charlie', 20, 65.2), ('Alice', 25, 55.5), ('Bob', 30, 85.3)],\n",
       "      dtype=[('name', '<U10'), ('age', '<i4'), ('weight', '<f4')])"
      ]
     },
     "execution_count": 16,
     "metadata": {},
     "output_type": "execute_result"
    }
   ],
   "source": [
    "data_type=[(\"name\",\"U10\"),(\"age\",\"i4\"),(\"weight\",\"f4\")]\n",
    "data = np.array([('Alice', 25, 55.5), ('Bob', 30, 85.3), ('Charlie', 20, 65.2)], dtype=data_type)\n",
    "print(\"Original array:\")\n",
    "print(data)\n",
    "np.sort(data,order=\"age\")"
   ]
  },
  {
   "cell_type": "code",
   "execution_count": 18,
   "id": "744b953f",
   "metadata": {},
   "outputs": [
    {
     "name": "stdout",
     "output_type": "stream",
     "text": [
      "[(5, 4) (2, 3)]\n"
     ]
    }
   ],
   "source": [
    "data_type=[('x','i4'),('y','i4')]\n",
    "data=np.array([(5,4),(2,3)],dtype=data_type)\n",
    "print(data)"
   ]
  },
  {
   "cell_type": "code",
   "execution_count": 21,
   "id": "f981b952",
   "metadata": {},
   "outputs": [
    {
     "data": {
      "text/plain": [
       "array([[0.        , 3.16227766],\n",
       "       [3.16227766, 0.        ]])"
      ]
     },
     "execution_count": 21,
     "metadata": {},
     "output_type": "execute_result"
    }
   ],
   "source": [
    "np.sqrt((data['x'][:,np.newaxis]-data['x'])**2 + (data['y'][:,np.newaxis]-data['y'])**2)"
   ]
  },
  {
   "cell_type": "code",
   "execution_count": 27,
   "id": "9fed1c5b",
   "metadata": {},
   "outputs": [
    {
     "name": "stdout",
     "output_type": "stream",
     "text": [
      "[[1 -- 6 --]\n",
      " [-- 1 -- 3]\n",
      " [-- 5 2 --]\n",
      " [9 7 6 --]]\n"
     ]
    },
    {
     "data": {
      "text/plain": [
       "np.int64(40)"
      ]
     },
     "execution_count": 27,
     "metadata": {},
     "output_type": "execute_result"
    }
   ],
   "source": [
    "import numpy.ma as ma\n",
    "data=np.random.randint(1,21,size=(4,4))\n",
    "mask=data > 10\n",
    "arr=ma.array(data,mask=mask)\n",
    "print(arr)\n",
    "arr.sum()"
   ]
  },
  {
   "cell_type": "code",
   "execution_count": 36,
   "id": "454e2858",
   "metadata": {},
   "outputs": [
    {
     "name": "stdout",
     "output_type": "stream",
     "text": [
      "[[-- 4 15]\n",
      " [20 -- 4]\n",
      " [17 11 --]]\n"
     ]
    },
    {
     "data": {
      "text/plain": [
       "array([[11,  4, 15],\n",
       "       [20, 11,  4],\n",
       "       [17, 11, 11]], dtype=int32)"
      ]
     },
     "execution_count": 36,
     "metadata": {},
     "output_type": "execute_result"
    }
   ],
   "source": [
    "data=np.random.randint(1,21,size=(3,3))\n",
    "mask=np.eye(3,dtype=bool)\n",
    "arr=ma.array(data,mask=mask)\n",
    "print(arr)\n",
    "mean=arr.mean()\n",
    "arr.filled(mean)\n"
   ]
  },
  {
   "cell_type": "code",
   "execution_count": null,
   "id": "df6c4eb9",
   "metadata": {},
   "outputs": [],
   "source": []
  }
 ],
 "metadata": {
  "kernelspec": {
   "display_name": "Python 3",
   "language": "python",
   "name": "python3"
  },
  "language_info": {
   "codemirror_mode": {
    "name": "ipython",
    "version": 3
   },
   "file_extension": ".py",
   "mimetype": "text/x-python",
   "name": "python",
   "nbconvert_exporter": "python",
   "pygments_lexer": "ipython3",
   "version": "3.13.7"
  }
 },
 "nbformat": 4,
 "nbformat_minor": 5
}
