{
 "cells": [
  {
   "cell_type": "code",
   "execution_count": 1,
   "id": "a82b1714",
   "metadata": {},
   "outputs": [],
   "source": [
    "a=100"
   ]
  },
  {
   "cell_type": "code",
   "execution_count": 2,
   "id": "c1d9a76c",
   "metadata": {},
   "outputs": [
    {
     "name": "stdout",
     "output_type": "stream",
     "text": [
      "25\n",
      "5.8\n",
      "salman\n"
     ]
    }
   ],
   "source": [
    "age=25\n",
    "height=5.8\n",
    "name=\"salman\"\n",
    "is_student=True\n",
    "\n",
    "print(age)\n",
    "print(height)\n",
    "print(name)"
   ]
  },
  {
   "cell_type": "code",
   "execution_count": 3,
   "id": "c472f3f7",
   "metadata": {},
   "outputs": [],
   "source": [
    "first_name=\"salman\"\n",
    "last_name=\"akhtar\""
   ]
  },
  {
   "cell_type": "code",
   "execution_count": 4,
   "id": "85f6d6fb",
   "metadata": {},
   "outputs": [],
   "source": [
    "# Invalid variable names\n",
    "#2age=30\n",
    "#first-name=\"Krish\"\n",
    "##@name=\"Krish\""
   ]
  },
  {
   "cell_type": "code",
   "execution_count": 5,
   "id": "62e70d52",
   "metadata": {},
   "outputs": [],
   "source": [
    "name=\"salman\"\n",
    "Name=\"akhtar\""
   ]
  },
  {
   "cell_type": "code",
   "execution_count": 6,
   "id": "58516e75",
   "metadata": {},
   "outputs": [
    {
     "name": "stdout",
     "output_type": "stream",
     "text": [
      "<class 'str'>\n"
     ]
    }
   ],
   "source": [
    "age=25\n",
    "height=5.8\n",
    "name=\"salman\"\n",
    "is_student=True\n",
    "\n",
    "print(type(name))"
   ]
  },
  {
   "cell_type": "code",
   "execution_count": 7,
   "id": "b8788304",
   "metadata": {},
   "outputs": [
    {
     "name": "stdout",
     "output_type": "stream",
     "text": [
      "<class 'float'>\n"
     ]
    }
   ],
   "source": [
    "print(type(height))"
   ]
  },
  {
   "cell_type": "code",
   "execution_count": 8,
   "id": "3a69e2d5",
   "metadata": {},
   "outputs": [
    {
     "ename": "ValueError",
     "evalue": "invalid literal for int() with base 10: 'salman'",
     "output_type": "error",
     "traceback": [
      "\u001b[31m---------------------------------------------------------------------------\u001b[39m",
      "\u001b[31mValueError\u001b[39m                                Traceback (most recent call last)",
      "\u001b[36mCell\u001b[39m\u001b[36m \u001b[39m\u001b[32mIn[8]\u001b[39m\u001b[32m, line 2\u001b[39m\n\u001b[32m      1\u001b[39m name=\u001b[33m\"\u001b[39m\u001b[33msalman\u001b[39m\u001b[33m\"\u001b[39m\n\u001b[32m----> \u001b[39m\u001b[32m2\u001b[39m \u001b[38;5;28;43mint\u001b[39;49m\u001b[43m(\u001b[49m\u001b[43mname\u001b[49m\u001b[43m)\u001b[49m\n",
      "\u001b[31mValueError\u001b[39m: invalid literal for int() with base 10: 'salman'"
     ]
    }
   ],
   "source": [
    "name=\"salman\"\n",
    "int(name)"
   ]
  },
  {
   "cell_type": "code",
   "execution_count": 9,
   "id": "8f208ea0",
   "metadata": {},
   "outputs": [
    {
     "data": {
      "text/plain": [
       "float"
      ]
     },
     "execution_count": 9,
     "metadata": {},
     "output_type": "execute_result"
    }
   ],
   "source": [
    "height=5.8\n",
    "type(height)"
   ]
  },
  {
   "cell_type": "code",
   "execution_count": 10,
   "id": "4dd3c32d",
   "metadata": {},
   "outputs": [
    {
     "data": {
      "text/plain": [
       "5.0"
      ]
     },
     "execution_count": 10,
     "metadata": {},
     "output_type": "execute_result"
    }
   ],
   "source": [
    "float(int(height))"
   ]
  },
  {
   "cell_type": "code",
   "execution_count": 12,
   "id": "074ba33b",
   "metadata": {},
   "outputs": [
    {
     "name": "stdout",
     "output_type": "stream",
     "text": [
      "10 <class 'int'>\n",
      "hello <class 'str'>\n",
      "3.14 <class 'float'>\n"
     ]
    }
   ],
   "source": [
    "var=10\n",
    "print(var,type(var))\n",
    "\n",
    "var=\"hello\"\n",
    "print(var,type(var))\n",
    "\n",
    "var=3.14\n",
    "print(var,type(var))"
   ]
  },
  {
   "cell_type": "code",
   "execution_count": 13,
   "id": "be7f880c",
   "metadata": {},
   "outputs": [
    {
     "name": "stdout",
     "output_type": "stream",
     "text": [
      "25 <class 'int'>\n"
     ]
    }
   ],
   "source": [
    "age=int(input(\"what is your age\"))\n",
    "print(age,type(age))"
   ]
  },
  {
   "cell_type": "code",
   "execution_count": 16,
   "id": "ba949778",
   "metadata": {},
   "outputs": [
    {
     "name": "stdout",
     "output_type": "stream",
     "text": [
      "7.0\n",
      "1.0\n",
      "12.0\n",
      "1.3333333333333333\n"
     ]
    }
   ],
   "source": [
    "num1=float(input(\"enter first number: \"))\n",
    "num2=float(input(\"enter second number: \"))\n",
    "\n",
    "sum=num1+num2\n",
    "difference=num1-num2\n",
    "product=num1*num2\n",
    "qoutient= num1/num2\n",
    "\n",
    "print(sum)\n",
    "print(difference)\n",
    "print(product)\n",
    "print(qoutient)"
   ]
  },
  {
   "cell_type": "code",
   "execution_count": null,
   "id": "5ec2ff08",
   "metadata": {},
   "outputs": [],
   "source": []
  }
 ],
 "metadata": {
  "kernelspec": {
   "display_name": "Python 3",
   "language": "python",
   "name": "python3"
  },
  "language_info": {
   "codemirror_mode": {
    "name": "ipython",
    "version": 3
   },
   "file_extension": ".py",
   "mimetype": "text/x-python",
   "name": "python",
   "nbconvert_exporter": "python",
   "pygments_lexer": "ipython3",
   "version": "3.13.7"
  }
 },
 "nbformat": 4,
 "nbformat_minor": 5
}
