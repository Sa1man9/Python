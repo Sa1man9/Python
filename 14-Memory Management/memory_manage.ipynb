{
 "cells": [
  {
   "cell_type": "code",
   "execution_count": 1,
   "id": "d85f0102",
   "metadata": {},
   "outputs": [
    {
     "name": "stdout",
     "output_type": "stream",
     "text": [
      "2\n"
     ]
    }
   ],
   "source": [
    "import sys\n",
    "a=[]\n",
    "print(sys.getrefcount(a))"
   ]
  },
  {
   "cell_type": "code",
   "execution_count": 2,
   "id": "974893c0",
   "metadata": {},
   "outputs": [
    {
     "name": "stdout",
     "output_type": "stream",
     "text": [
      "3\n"
     ]
    }
   ],
   "source": [
    "b=a\n",
    "print(sys.getrefcount(b))"
   ]
  },
  {
   "cell_type": "code",
   "execution_count": 3,
   "id": "3d9de076",
   "metadata": {},
   "outputs": [
    {
     "name": "stdout",
     "output_type": "stream",
     "text": [
      "2\n"
     ]
    }
   ],
   "source": [
    "del b\n",
    "print(sys.getrefcount(a))"
   ]
  },
  {
   "cell_type": "code",
   "execution_count": 4,
   "id": "7698009e",
   "metadata": {},
   "outputs": [],
   "source": [
    "import gc\n",
    "\n",
    "gc.enable()"
   ]
  },
  {
   "cell_type": "code",
   "execution_count": 6,
   "id": "233b91da",
   "metadata": {},
   "outputs": [],
   "source": [
    "gc.disable()"
   ]
  },
  {
   "cell_type": "code",
   "execution_count": 7,
   "id": "40d2756d",
   "metadata": {},
   "outputs": [
    {
     "data": {
      "text/plain": [
       "133"
      ]
     },
     "execution_count": 7,
     "metadata": {},
     "output_type": "execute_result"
    }
   ],
   "source": [
    "gc.collect()"
   ]
  },
  {
   "cell_type": "code",
   "execution_count": 9,
   "id": "914f8567",
   "metadata": {},
   "outputs": [
    {
     "name": "stdout",
     "output_type": "stream",
     "text": [
      "[{'collections': 65, 'collected': 1373, 'uncollectable': 0}, {'collections': 5, 'collected': 363, 'uncollectable': 0}, {'collections': 1, 'collected': 133, 'uncollectable': 0}]\n"
     ]
    }
   ],
   "source": [
    "print(gc.get_stats())"
   ]
  },
  {
   "cell_type": "code",
   "execution_count": 11,
   "id": "2d2178d1",
   "metadata": {},
   "outputs": [
    {
     "name": "stdout",
     "output_type": "stream",
     "text": [
      "[]\n"
     ]
    }
   ],
   "source": [
    "print(gc.garbage)"
   ]
  },
  {
   "cell_type": "code",
   "execution_count": 13,
   "id": "01426cf5",
   "metadata": {},
   "outputs": [
    {
     "name": "stdout",
     "output_type": "stream",
     "text": [
      "obj1 created\n",
      "obj2 created\n",
      "obj1 deleted\n",
      "obj2 deleted\n"
     ]
    },
    {
     "data": {
      "text/plain": [
       "4202"
      ]
     },
     "execution_count": 13,
     "metadata": {},
     "output_type": "execute_result"
    }
   ],
   "source": [
    "import gc\n",
    "\n",
    "class MyObject:\n",
    "    def __init__(self,name):\n",
    "        self.name=name\n",
    "        print(f\"{self.name} created\")\n",
    "\n",
    "    def __del__(self):\n",
    "        print(f\"{self.name} deleted\")\n",
    "\n",
    "obj1=MyObject(\"obj1\")\n",
    "\n",
    "\n",
    "obj2=MyObject(\"obj2\")\n",
    "obj1.ref=obj2\n",
    "obj2.ref=obj1\n",
    "\n",
    "del obj1\n",
    "del obj2\n",
    "\n",
    "gc.collect()"
   ]
  },
  {
   "cell_type": "code",
   "execution_count": 14,
   "id": "3b6ca379",
   "metadata": {},
   "outputs": [
    {
     "name": "stdout",
     "output_type": "stream",
     "text": [
      "0\n",
      "1\n",
      "2\n",
      "3\n",
      "4\n",
      "5\n",
      "6\n",
      "7\n",
      "8\n",
      "9\n"
     ]
    }
   ],
   "source": [
    "def generate_numbers(n):\n",
    "    for i in range(n):\n",
    "        yield i\n",
    "\n",
    "for num in generate_numbers(10):\n",
    "    print(num)"
   ]
  },
  {
   "cell_type": "code",
   "execution_count": 17,
   "id": "dcf38b43",
   "metadata": {},
   "outputs": [],
   "source": [
    "import tracemalloc\n",
    "\n",
    "def create_list():\n",
    "    return [i for i in range(1000)]\n",
    "\n",
    "def main():\n",
    "    tracemalloc.start()\n",
    "\n",
    "    create_list()\n",
    "\n",
    "    snapshot=tracemalloc.take_snapshot()\n",
    "    top_stats=snapshot.statistics('lineno')\n",
    "\n",
    "    print(\"top 10\")\n",
    "    for stat in top_stats[::]:\n",
    "        print(stat)"
   ]
  },
  {
   "cell_type": "code",
   "execution_count": 18,
   "id": "c8860e15",
   "metadata": {},
   "outputs": [
    {
     "name": "stdout",
     "output_type": "stream",
     "text": [
      "top 10\n",
      "c:\\Users\\salma\\OneDrive\\Desktop\\data-science\\Python\\venv\\Lib\\inspect.py:2255: size=50.7 KiB, count=1, average=50.7 KiB\n",
      "c:\\Users\\salma\\OneDrive\\Desktop\\data-science\\Python\\venv\\Lib\\site-packages\\ipykernel\\ipkernel.py:556: size=7680 B, count=64, average=120 B\n",
      "c:\\Users\\salma\\OneDrive\\Desktop\\data-science\\Python\\venv\\Lib\\site-packages\\IPython\\core\\compilerop.py:174: size=5627 B, count=55, average=102 B\n",
      "c:\\Users\\salma\\OneDrive\\Desktop\\data-science\\Python\\venv\\Lib\\site-packages\\IPython\\core\\completer.py:2288: size=4630 B, count=97, average=48 B\n",
      "c:\\Users\\salma\\OneDrive\\Desktop\\data-science\\Python\\venv\\Lib\\json\\decoder.py:361: size=3207 B, count=46, average=70 B\n",
      "c:\\Users\\salma\\OneDrive\\Desktop\\data-science\\Python\\venv\\Lib\\site-packages\\IPython\\core\\completer.py:3408: size=3200 B, count=1, average=3200 B\n",
      "c:\\Users\\salma\\OneDrive\\Desktop\\data-science\\Python\\venv\\Lib\\codeop.py:118: size=3171 B, count=41, average=77 B\n",
      "c:\\Users\\salma\\OneDrive\\Desktop\\data-science\\Python\\venv\\Lib\\site-packages\\IPython\\core\\completer.py:451: size=3072 B, count=48, average=64 B\n",
      "c:\\Users\\salma\\OneDrive\\Desktop\\data-science\\Python\\venv\\Lib\\inspect.py:2276: size=2432 B, count=7, average=347 B\n",
      "c:\\Users\\salma\\OneDrive\\Desktop\\data-science\\Python\\venv\\Lib\\site-packages\\IPython\\core\\compilerop.py:86: size=2063 B, count=30, average=69 B\n",
      "c:\\Users\\salma\\OneDrive\\Desktop\\data-science\\Python\\venv\\Lib\\site-packages\\traitlets\\traitlets.py:731: size=1820 B, count=29, average=63 B\n",
      "c:\\Users\\salma\\OneDrive\\Desktop\\data-science\\Python\\venv\\Lib\\site-packages\\traitlets\\traitlets.py:1543: size=1770 B, count=29, average=61 B\n",
      "c:\\Users\\salma\\OneDrive\\Desktop\\data-science\\Python\\venv\\Lib\\site-packages\\zmq\\sugar\\attrsettr.py:45: size=1598 B, count=34, average=47 B\n",
      "c:\\Users\\salma\\OneDrive\\Desktop\\data-science\\Python\\venv\\Lib\\site-packages\\jupyter_client\\jsonutil.py:111: size=1550 B, count=31, average=50 B\n",
      "c:\\Users\\salma\\OneDrive\\Desktop\\data-science\\Python\\venv\\Lib\\site-packages\\IPython\\core\\completer.py:2286: size=1390 B, count=29, average=48 B\n",
      "c:\\Users\\salma\\OneDrive\\Desktop\\data-science\\Python\\venv\\Lib\\contextlib.py:109: size=1256 B, count=12, average=105 B\n",
      "c:\\Users\\salma\\OneDrive\\Desktop\\data-science\\Python\\venv\\Lib\\site-packages\\jupyter_client\\session.py:100: size=1241 B, count=8, average=155 B\n",
      "c:\\Users\\salma\\OneDrive\\Desktop\\data-science\\Python\\venv\\Lib\\site-packages\\zmq\\sugar\\socket.py:802: size=1056 B, count=6, average=176 B\n",
      "c:\\Users\\salma\\OneDrive\\Desktop\\data-science\\Python\\venv\\Lib\\site-packages\\jupyter_client\\session.py:1057: size=1013 B, count=8, average=127 B\n",
      "c:\\Users\\salma\\OneDrive\\Desktop\\data-science\\Python\\venv\\Lib\\site-packages\\traitlets\\traitlets.py:1514: size=960 B, count=8, average=120 B\n",
      "c:\\Users\\salma\\OneDrive\\Desktop\\data-science\\Python\\venv\\Lib\\ast.py:84: size=928 B, count=8, average=116 B\n",
      "c:\\Users\\salma\\OneDrive\\Desktop\\data-science\\Python\\venv\\Lib\\site-packages\\ipykernel\\iostream.py:346: size=848 B, count=12, average=71 B\n",
      "c:\\Users\\salma\\OneDrive\\Desktop\\data-science\\Python\\venv\\Lib\\threading.py:297: size=760 B, count=2, average=380 B\n",
      "c:\\Users\\salma\\OneDrive\\Desktop\\data-science\\Python\\venv\\Lib\\inspect.py:2314: size=640 B, count=16, average=40 B\n",
      "c:\\Users\\salma\\OneDrive\\Desktop\\data-science\\Python\\venv\\Lib\\ast.py:76: size=640 B, count=4, average=160 B\n",
      "c:\\Users\\salma\\OneDrive\\Desktop\\data-science\\Python\\venv\\Lib\\ast.py:72: size=640 B, count=4, average=160 B\n",
      "c:\\Users\\salma\\OneDrive\\Desktop\\data-science\\Python\\venv\\Lib\\ast.py:67: size=640 B, count=4, average=160 B\n",
      "c:\\Users\\salma\\OneDrive\\Desktop\\data-science\\Python\\venv\\Lib\\site-packages\\jupyter_client\\jsonutil.py:75: size=624 B, count=3, average=208 B\n",
      "c:\\Users\\salma\\OneDrive\\Desktop\\data-science\\Python\\venv\\Lib\\site-packages\\IPython\\core\\history.py:1011: size=552 B, count=6, average=92 B\n",
      "c:\\Users\\salma\\OneDrive\\Desktop\\data-science\\Python\\venv\\Lib\\site-packages\\IPython\\core\\interactiveshell.py:3145: size=536 B, count=4, average=134 B\n",
      "c:\\Users\\salma\\OneDrive\\Desktop\\data-science\\Python\\venv\\Lib\\site-packages\\ipykernel\\iostream.py:276: size=528 B, count=5, average=106 B\n",
      "c:\\Users\\salma\\OneDrive\\Desktop\\data-science\\Python\\venv\\Lib\\asyncio\\events.py:89: size=448 B, count=5, average=90 B\n",
      "c:\\Users\\salma\\OneDrive\\Desktop\\data-science\\Python\\venv\\Lib\\site-packages\\ipykernel\\kernelbase.py:764: size=432 B, count=2, average=216 B\n",
      "c:\\Users\\salma\\OneDrive\\Desktop\\data-science\\Python\\venv\\Lib\\site-packages\\ipykernel\\compiler.py:91: size=415 B, count=4, average=104 B\n",
      "c:\\Users\\salma\\OneDrive\\Desktop\\data-science\\Python\\venv\\Lib\\site-packages\\IPython\\core\\history.py:958: size=376 B, count=2, average=188 B\n",
      "c:\\Users\\salma\\OneDrive\\Desktop\\data-science\\Python\\venv\\Lib\\site-packages\\IPython\\core\\interactiveshell.py:3394: size=376 B, count=1, average=376 B\n",
      "c:\\Users\\salma\\OneDrive\\Desktop\\data-science\\Python\\venv\\Lib\\site-packages\\ipykernel\\ipkernel.py:368: size=368 B, count=1, average=368 B\n",
      "c:\\Users\\salma\\OneDrive\\Desktop\\data-science\\Python\\venv\\Lib\\contextlib.py:305: size=336 B, count=3, average=112 B\n",
      "c:\\Users\\salma\\OneDrive\\Desktop\\data-science\\Python\\venv\\Lib\\site-packages\\IPython\\core\\interactiveshell.py:3502: size=330 B, count=1, average=330 B\n",
      "c:\\Users\\salma\\OneDrive\\Desktop\\data-science\\Python\\venv\\Lib\\site-packages\\IPython\\core\\interactiveshell.py:3043: size=320 B, count=2, average=160 B\n",
      "c:\\Users\\salma\\OneDrive\\Desktop\\data-science\\Python\\venv\\Lib\\site-packages\\IPython\\core\\interactiveshell.py:3639: size=296 B, count=1, average=296 B\n",
      "c:\\Users\\salma\\OneDrive\\Desktop\\data-science\\Python\\venv\\Lib\\site-packages\\ipykernel\\zmqshell.py:577: size=288 B, count=4, average=72 B\n",
      "c:\\Users\\salma\\OneDrive\\Desktop\\data-science\\Python\\venv\\Lib\\site-packages\\zmq\\sugar\\socket.py:378: size=280 B, count=1, average=280 B\n",
      "c:\\Users\\salma\\OneDrive\\Desktop\\data-science\\Python\\venv\\Lib\\site-packages\\ipykernel\\iostream.py:287: size=272 B, count=4, average=68 B\n",
      "c:\\Users\\salma\\OneDrive\\Desktop\\data-science\\Python\\venv\\Lib\\site-packages\\ipykernel\\kernelbase.py:508: size=272 B, count=1, average=272 B\n",
      "c:\\Users\\salma\\OneDrive\\Desktop\\data-science\\Python\\venv\\Lib\\logging\\__init__.py:1603: size=264 B, count=1, average=264 B\n",
      "c:\\Users\\salma\\OneDrive\\Desktop\\data-science\\Python\\venv\\Lib\\site-packages\\tornado\\platform\\asyncio.py:241: size=256 B, count=4, average=64 B\n",
      "c:\\Users\\salma\\OneDrive\\Desktop\\data-science\\Python\\venv\\Lib\\site-packages\\ipykernel\\kernelbase.py:398: size=248 B, count=1, average=248 B\n",
      "c:\\Users\\salma\\OneDrive\\Desktop\\data-science\\Python\\venv\\Lib\\site-packages\\ipykernel\\iostream.py:121: size=248 B, count=1, average=248 B\n",
      "c:\\Users\\salma\\OneDrive\\Desktop\\data-science\\Python\\venv\\Lib\\site-packages\\zmq\\sugar\\socket.py:799: size=240 B, count=3, average=80 B\n",
      "c:\\Users\\salma\\OneDrive\\Desktop\\data-science\\Python\\venv\\Lib\\site-packages\\IPython\\core\\interactiveshell.py:3271: size=240 B, count=2, average=120 B\n",
      "c:\\Users\\salma\\OneDrive\\Desktop\\data-science\\Python\\venv\\Lib\\site-packages\\IPython\\core\\display_functions.py:354: size=240 B, count=2, average=120 B\n",
      "c:\\Users\\salma\\OneDrive\\Desktop\\data-science\\Python\\venv\\Lib\\site-packages\\IPython\\core\\display_functions.py:276: size=240 B, count=2, average=120 B\n",
      "c:\\Users\\salma\\OneDrive\\Desktop\\data-science\\Python\\venv\\Lib\\site-packages\\ipykernel\\kernelbase.py:519: size=240 B, count=1, average=240 B\n",
      "c:\\Users\\salma\\OneDrive\\Desktop\\data-science\\Python\\venv\\Lib\\ast.py:420: size=220 B, count=4, average=55 B\n",
      "c:\\Users\\salma\\OneDrive\\Desktop\\data-science\\Python\\venv\\Lib\\asyncio\\base_events.py:853: size=208 B, count=2, average=104 B\n",
      "c:\\Users\\salma\\OneDrive\\Desktop\\data-science\\Python\\venv\\Lib\\site-packages\\jupyter_client\\session.py:1085: size=208 B, count=1, average=208 B\n",
      "c:\\Users\\salma\\OneDrive\\Desktop\\data-science\\Python\\venv\\Lib\\site-packages\\ipykernel\\kernelbase.py:759: size=208 B, count=1, average=208 B\n",
      "c:\\Users\\salma\\OneDrive\\Desktop\\data-science\\Python\\venv\\Lib\\threading.py:924: size=200 B, count=5, average=40 B\n",
      "C:\\Users\\salma\\AppData\\Local\\Temp\\ipykernel_26268\\3676262652.py:22: size=200 B, count=1, average=200 B\n",
      "c:\\Users\\salma\\OneDrive\\Desktop\\data-science\\Python\\venv\\Lib\\site-packages\\jupyter_client\\session.py:688: size=194 B, count=2, average=97 B\n",
      "c:\\Users\\salma\\OneDrive\\Desktop\\data-science\\Python\\venv\\Lib\\site-packages\\jupyter_client\\session.py:750: size=192 B, count=2, average=96 B\n",
      "c:\\Users\\salma\\OneDrive\\Desktop\\data-science\\Python\\venv\\Lib\\site-packages\\IPython\\core\\interactiveshell.py:3279: size=192 B, count=2, average=96 B\n",
      "c:\\Users\\salma\\OneDrive\\Desktop\\data-science\\Python\\venv\\Lib\\site-packages\\IPython\\core\\completer.py:2821: size=183 B, count=4, average=46 B\n",
      "c:\\Users\\salma\\OneDrive\\Desktop\\data-science\\Python\\venv\\Lib\\site-packages\\ipykernel\\kernelbase.py:1175: size=173 B, count=2, average=86 B\n",
      "c:\\Users\\salma\\OneDrive\\Desktop\\data-science\\Python\\venv\\Lib\\threading.py:593: size=160 B, count=2, average=80 B\n",
      "c:\\Users\\salma\\OneDrive\\Desktop\\data-science\\Python\\venv\\Lib\\_weakrefset.py:88: size=160 B, count=2, average=80 B\n",
      "c:\\Users\\salma\\OneDrive\\Desktop\\data-science\\Python\\venv\\Lib\\threading.py:1283: size=160 B, count=1, average=160 B\n",
      "c:\\Users\\salma\\OneDrive\\Desktop\\data-science\\Python\\venv\\Lib\\threading.py:972: size=160 B, count=1, average=160 B\n",
      "c:\\Users\\salma\\OneDrive\\Desktop\\data-science\\Python\\venv\\Lib\\site-packages\\ipykernel\\kernelbase.py:544: size=160 B, count=1, average=160 B\n",
      "c:\\Users\\salma\\OneDrive\\Desktop\\data-science\\Python\\venv\\Lib\\site-packages\\IPython\\core\\interactiveshell.py:3699: size=160 B, count=1, average=160 B\n",
      "c:\\Users\\salma\\OneDrive\\Desktop\\data-science\\Python\\venv\\Lib\\site-packages\\IPython\\core\\interactiveshell.py:3615: size=160 B, count=1, average=160 B\n",
      "c:\\Users\\salma\\OneDrive\\Desktop\\data-science\\Python\\venv\\Lib\\site-packages\\IPython\\core\\interactiveshell.py:3292: size=160 B, count=1, average=160 B\n",
      "c:\\Users\\salma\\OneDrive\\Desktop\\data-science\\Python\\venv\\Lib\\inspect.py:2294: size=160 B, count=1, average=160 B\n",
      "c:\\Users\\salma\\OneDrive\\Desktop\\data-science\\Python\\venv\\Lib\\inspect.py:2289: size=160 B, count=1, average=160 B\n",
      "c:\\Users\\salma\\OneDrive\\Desktop\\data-science\\Python\\venv\\Lib\\inspect.py:2277: size=160 B, count=1, average=160 B\n",
      "c:\\Users\\salma\\OneDrive\\Desktop\\data-science\\Python\\venv\\Lib\\inspect.py:2263: size=160 B, count=1, average=160 B\n",
      "C:\\Users\\salma\\AppData\\Local\\Temp\\ipykernel_26268\\3709500605.py:6: size=160 B, count=1, average=160 B\n",
      "C:\\Users\\salma\\AppData\\Local\\Temp\\ipykernel_26268\\3709500605.py:3: size=160 B, count=1, average=160 B\n",
      "c:\\Users\\salma\\OneDrive\\Desktop\\data-science\\Python\\venv\\Lib\\site-packages\\dateutil\\parser\\isoparser.py:146: size=144 B, count=3, average=48 B\n",
      "c:\\Users\\salma\\OneDrive\\Desktop\\data-science\\Python\\venv\\Lib\\site-packages\\ipykernel\\iostream.py:722: size=144 B, count=2, average=72 B\n",
      "c:\\Users\\salma\\OneDrive\\Desktop\\data-science\\Python\\venv\\Lib\\site-packages\\IPython\\core\\compilerop.py:171: size=144 B, count=2, average=72 B\n",
      "c:\\Users\\salma\\OneDrive\\Desktop\\data-science\\Python\\venv\\Lib\\site-packages\\ipykernel\\iostream.py:527: size=136 B, count=2, average=68 B\n",
      "c:\\Users\\salma\\OneDrive\\Desktop\\data-science\\Python\\venv\\Lib\\site-packages\\tornado\\queues.py:248: size=136 B, count=1, average=136 B\n",
      "c:\\Users\\salma\\OneDrive\\Desktop\\data-science\\Python\\venv\\Lib\\asyncio\\base_events.py:459: size=136 B, count=1, average=136 B\n",
      "c:\\Users\\salma\\OneDrive\\Desktop\\data-science\\Python\\venv\\Lib\\site-packages\\jupyter_client\\jsonutil.py:73: size=128 B, count=2, average=64 B\n",
      "c:\\Users\\salma\\OneDrive\\Desktop\\data-science\\Python\\venv\\Lib\\site-packages\\IPython\\core\\interactiveshell.py:3688: size=128 B, count=2, average=64 B\n",
      "c:\\Users\\salma\\OneDrive\\Desktop\\data-science\\Python\\venv\\Lib\\site-packages\\IPython\\core\\interactiveshell.py:3114: size=128 B, count=2, average=64 B\n",
      "c:\\Users\\salma\\OneDrive\\Desktop\\data-science\\Python\\venv\\Lib\\inspect.py:2380: size=120 B, count=3, average=40 B\n",
      "c:\\Users\\salma\\OneDrive\\Desktop\\data-science\\Python\\venv\\Lib\\site-packages\\zmq\\eventloop\\zmqstream.py:641: size=120 B, count=1, average=120 B\n",
      "c:\\Users\\salma\\OneDrive\\Desktop\\data-science\\Python\\venv\\Lib\\site-packages\\jupyter_client\\session.py:672: size=120 B, count=1, average=120 B\n",
      "c:\\Users\\salma\\OneDrive\\Desktop\\data-science\\Python\\venv\\Lib\\site-packages\\IPython\\core\\display_functions.py:306: size=120 B, count=1, average=120 B\n",
      "c:\\Users\\salma\\OneDrive\\Desktop\\data-science\\Python\\venv\\Lib\\inspect.py:266: size=120 B, count=1, average=120 B\n",
      "c:\\Users\\salma\\OneDrive\\Desktop\\data-science\\Python\\venv\\Lib\\asyncio\\base_events.py:816: size=120 B, count=1, average=120 B\n",
      "c:\\Users\\salma\\OneDrive\\Desktop\\data-science\\Python\\venv\\Lib\\ast.py:443: size=118 B, count=2, average=59 B\n",
      "c:\\Users\\salma\\OneDrive\\Desktop\\data-science\\Python\\venv\\Lib\\threading.py:919: size=112 B, count=2, average=56 B\n",
      "c:\\Users\\salma\\OneDrive\\Desktop\\data-science\\Python\\venv\\Lib\\site-packages\\decorator.py:235: size=112 B, count=2, average=56 B\n",
      "c:\\Users\\salma\\OneDrive\\Desktop\\data-science\\Python\\venv\\Lib\\site-packages\\zmq\\sugar\\context.py:352: size=112 B, count=1, average=112 B\n",
      "c:\\Users\\salma\\OneDrive\\Desktop\\data-science\\Python\\venv\\Lib\\site-packages\\jupyter_client\\session.py:989: size=111 B, count=2, average=56 B\n",
      "c:\\Users\\salma\\OneDrive\\Desktop\\data-science\\Python\\venv\\Lib\\site-packages\\IPython\\core\\interactiveshell.py:3497: size=96 B, count=2, average=48 B\n",
      "c:\\Users\\salma\\OneDrive\\Desktop\\data-science\\Python\\venv\\Lib\\warnings.py:196: size=96 B, count=1, average=96 B\n",
      "c:\\Users\\salma\\OneDrive\\Desktop\\data-science\\Python\\venv\\Lib\\site-packages\\IPython\\core\\history.py:982: size=90 B, count=2, average=45 B\n",
      "c:\\Users\\salma\\OneDrive\\Desktop\\data-science\\Python\\venv\\Lib\\threading.py:920: size=88 B, count=1, average=88 B\n",
      "c:\\Users\\salma\\OneDrive\\Desktop\\data-science\\Python\\venv\\Lib\\site-packages\\IPython\\core\\compilerop.py:172: size=84 B, count=3, average=28 B\n",
      "c:\\Users\\salma\\OneDrive\\Desktop\\data-science\\Python\\venv\\Lib\\tokenize.py:582: size=80 B, count=1, average=80 B\n",
      "c:\\Users\\salma\\OneDrive\\Desktop\\data-science\\Python\\venv\\Lib\\threading.py:287: size=72 B, count=1, average=72 B\n",
      "c:\\Users\\salma\\OneDrive\\Desktop\\data-science\\Python\\venv\\Lib\\threading.py:286: size=72 B, count=1, average=72 B\n",
      "c:\\Users\\salma\\OneDrive\\Desktop\\data-science\\Python\\venv\\Lib\\site-packages\\IPython\\core\\history.py:1030: size=72 B, count=1, average=72 B\n",
      "c:\\Users\\salma\\OneDrive\\Desktop\\data-science\\Python\\venv\\Lib\\site-packages\\IPython\\core\\history.py:1013: size=72 B, count=1, average=72 B\n",
      "c:\\Users\\salma\\OneDrive\\Desktop\\data-science\\Python\\venv\\Lib\\site-packages\\IPython\\core\\history.py:1009: size=72 B, count=1, average=72 B\n",
      "c:\\Users\\salma\\OneDrive\\Desktop\\data-science\\Python\\venv\\Lib\\site-packages\\IPython\\core\\interactiveshell.py:3631: size=64 B, count=2, average=32 B\n",
      "c:\\Users\\salma\\OneDrive\\Desktop\\data-science\\Python\\venv\\Lib\\asyncio\\base_events.py:2034: size=64 B, count=2, average=32 B\n",
      "c:\\Users\\salma\\OneDrive\\Desktop\\data-science\\Python\\venv\\Lib\\site-packages\\zmq\\sugar\\socket.py:803: size=64 B, count=1, average=64 B\n",
      "c:\\Users\\salma\\OneDrive\\Desktop\\data-science\\Python\\venv\\Lib\\site-packages\\zmq\\eventloop\\zmqstream.py:629: size=64 B, count=1, average=64 B\n",
      "c:\\Users\\salma\\OneDrive\\Desktop\\data-science\\Python\\venv\\Lib\\site-packages\\zmq\\eventloop\\zmqstream.py:550: size=64 B, count=1, average=64 B\n",
      "c:\\Users\\salma\\OneDrive\\Desktop\\data-science\\Python\\venv\\Lib\\site-packages\\traitlets\\traitlets.py:1540: size=64 B, count=1, average=64 B\n",
      "c:\\Users\\salma\\OneDrive\\Desktop\\data-science\\Python\\venv\\Lib\\site-packages\\jupyter_client\\session.py:1053: size=64 B, count=1, average=64 B\n",
      "c:\\Users\\salma\\OneDrive\\Desktop\\data-science\\Python\\venv\\Lib\\site-packages\\ipykernel\\kernelbase.py:710: size=64 B, count=1, average=64 B\n",
      "c:\\Users\\salma\\OneDrive\\Desktop\\data-science\\Python\\venv\\Lib\\site-packages\\ipykernel\\kernelbase.py:68: size=64 B, count=1, average=64 B\n",
      "c:\\Users\\salma\\OneDrive\\Desktop\\data-science\\Python\\venv\\Lib\\site-packages\\ipykernel\\ipkernel.py:455: size=64 B, count=1, average=64 B\n",
      "c:\\Users\\salma\\OneDrive\\Desktop\\data-science\\Python\\venv\\Lib\\site-packages\\ipykernel\\ipkernel.py:390: size=64 B, count=1, average=64 B\n",
      "c:\\Users\\salma\\OneDrive\\Desktop\\data-science\\Python\\venv\\Lib\\site-packages\\ipykernel\\ipkernel.py:389: size=64 B, count=1, average=64 B\n",
      "c:\\Users\\salma\\OneDrive\\Desktop\\data-science\\Python\\venv\\Lib\\site-packages\\ipykernel\\ipkernel.py:387: size=64 B, count=1, average=64 B\n",
      "c:\\Users\\salma\\OneDrive\\Desktop\\data-science\\Python\\venv\\Lib\\site-packages\\ipykernel\\ipkernel.py:300: size=64 B, count=1, average=64 B\n",
      "c:\\Users\\salma\\OneDrive\\Desktop\\data-science\\Python\\venv\\Lib\\site-packages\\ipykernel\\ipkernel.py:297: size=64 B, count=1, average=64 B\n",
      "c:\\Users\\salma\\OneDrive\\Desktop\\data-science\\Python\\venv\\Lib\\site-packages\\IPython\\core\\interactiveshell.py:3637: size=64 B, count=1, average=64 B\n",
      "c:\\Users\\salma\\OneDrive\\Desktop\\data-science\\Python\\venv\\Lib\\site-packages\\IPython\\core\\interactiveshell.py:3363: size=64 B, count=1, average=64 B\n",
      "c:\\Users\\salma\\OneDrive\\Desktop\\data-science\\Python\\venv\\Lib\\site-packages\\IPython\\core\\interactiveshell.py:3360: size=64 B, count=1, average=64 B\n",
      "c:\\Users\\salma\\OneDrive\\Desktop\\data-science\\Python\\venv\\Lib\\site-packages\\IPython\\core\\history.py:1111: size=64 B, count=1, average=64 B\n",
      "c:\\Users\\salma\\OneDrive\\Desktop\\data-science\\Python\\venv\\Lib\\threading.py:902: size=60 B, count=1, average=60 B\n",
      "c:\\Users\\salma\\OneDrive\\Desktop\\data-science\\Python\\venv\\Lib\\glob.py:171: size=60 B, count=1, average=60 B\n",
      "c:\\Users\\salma\\OneDrive\\Desktop\\data-science\\Python\\venv\\Lib\\threading.py:1021: size=56 B, count=2, average=28 B\n",
      "c:\\Users\\salma\\OneDrive\\Desktop\\data-science\\Python\\venv\\Lib\\warnings.py:493: size=56 B, count=1, average=56 B\n",
      "c:\\Users\\salma\\OneDrive\\Desktop\\data-science\\Python\\venv\\Lib\\site-packages\\traitlets\\traitlets.py:1534: size=56 B, count=1, average=56 B\n",
      "c:\\Users\\salma\\OneDrive\\Desktop\\data-science\\Python\\venv\\Lib\\site-packages\\jupyter_client\\session.py:1088: size=56 B, count=1, average=56 B\n",
      "c:\\Users\\salma\\OneDrive\\Desktop\\data-science\\Python\\venv\\Lib\\site-packages\\IPython\\core\\interactiveshell.py:3620: size=56 B, count=1, average=56 B\n",
      "c:\\Users\\salma\\OneDrive\\Desktop\\data-science\\Python\\venv\\Lib\\site-packages\\IPython\\core\\completer.py:1153: size=56 B, count=1, average=56 B\n",
      "c:\\Users\\salma\\OneDrive\\Desktop\\data-science\\Python\\venv\\Lib\\asyncio\\base_events.py:799: size=56 B, count=1, average=56 B\n",
      "c:\\Users\\salma\\OneDrive\\Desktop\\data-science\\Python\\venv\\Lib\\site-packages\\IPython\\core\\completer.py:3458: size=55 B, count=1, average=55 B\n",
      "c:\\Users\\salma\\OneDrive\\Desktop\\data-science\\Python\\venv\\Lib\\site-packages\\IPython\\core\\completer.py:3470: size=52 B, count=1, average=52 B\n",
      "c:\\Users\\salma\\OneDrive\\Desktop\\data-science\\Python\\venv\\Lib\\site-packages\\jupyter_client\\session.py:200: size=48 B, count=1, average=48 B\n",
      "c:\\Users\\salma\\OneDrive\\Desktop\\data-science\\Python\\venv\\Lib\\site-packages\\IPython\\core\\interactiveshell.py:3627: size=48 B, count=1, average=48 B\n",
      "c:\\Users\\salma\\OneDrive\\Desktop\\data-science\\Python\\venv\\Lib\\site-packages\\IPython\\core\\history.py:1010: size=48 B, count=1, average=48 B\n",
      "c:\\Users\\salma\\OneDrive\\Desktop\\data-science\\Python\\venv\\Lib\\site-packages\\zmq\\sugar\\attrsettr.py:29: size=47 B, count=1, average=47 B\n",
      "c:\\Users\\salma\\OneDrive\\Desktop\\data-science\\Python\\venv\\Lib\\site-packages\\IPython\\core\\prefilter.py:317: size=47 B, count=1, average=47 B\n",
      "c:\\Users\\salma\\OneDrive\\Desktop\\data-science\\Python\\venv\\Lib\\site-packages\\jupyter_client\\session.py:996: size=32 B, count=1, average=32 B\n",
      "c:\\Users\\salma\\OneDrive\\Desktop\\data-science\\Python\\venv\\Lib\\site-packages\\jupyter_client\\session.py:603: size=32 B, count=1, average=32 B\n",
      "c:\\Users\\salma\\OneDrive\\Desktop\\data-science\\Python\\venv\\Lib\\site-packages\\ipykernel\\iostream.py:168: size=32 B, count=1, average=32 B\n",
      "c:\\Users\\salma\\OneDrive\\Desktop\\data-science\\Python\\venv\\Lib\\site-packages\\IPython\\core\\interactiveshell.py:3625: size=32 B, count=1, average=32 B\n",
      "c:\\Users\\salma\\OneDrive\\Desktop\\data-science\\Python\\venv\\Lib\\site-packages\\IPython\\core\\history.py:969: size=32 B, count=1, average=32 B\n",
      "c:\\Users\\salma\\OneDrive\\Desktop\\data-science\\Python\\venv\\Lib\\site-packages\\IPython\\core\\compilerop.py:192: size=32 B, count=1, average=32 B\n",
      "c:\\Users\\salma\\OneDrive\\Desktop\\data-science\\Python\\venv\\Lib\\asyncio\\base_events.py:819: size=32 B, count=1, average=32 B\n",
      "c:\\Users\\salma\\OneDrive\\Desktop\\data-science\\Python\\venv\\Lib\\threading.py:1025: size=28 B, count=1, average=28 B\n",
      "c:\\Users\\salma\\OneDrive\\Desktop\\data-science\\Python\\venv\\Lib\\site-packages\\ipykernel\\ipkernel.py:776: size=28 B, count=1, average=28 B\n",
      "c:\\Users\\salma\\OneDrive\\Desktop\\data-science\\Python\\venv\\Lib\\site-packages\\IPython\\core\\interactiveshell.py:3607: size=8 B, count=1, average=8 B\n"
     ]
    }
   ],
   "source": [
    "main()"
   ]
  }
 ],
 "metadata": {
  "kernelspec": {
   "display_name": "Python 3",
   "language": "python",
   "name": "python3"
  },
  "language_info": {
   "codemirror_mode": {
    "name": "ipython",
    "version": 3
   },
   "file_extension": ".py",
   "mimetype": "text/x-python",
   "name": "python",
   "nbconvert_exporter": "python",
   "pygments_lexer": "ipython3",
   "version": "3.13.7"
  }
 },
 "nbformat": 4,
 "nbformat_minor": 5
}
